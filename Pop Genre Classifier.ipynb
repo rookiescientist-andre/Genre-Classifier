{
 "cells": [
  {
   "cell_type": "markdown",
   "metadata": {},
   "source": [
    "# Pop Song Classification\n",
    "\n",
    "***\n",
    "Author: Andre Layton\n",
    "***"
   ]
  },
  {
   "cell_type": "markdown",
   "metadata": {},
   "source": [
    "# Overview\n",
    "\n",
    "In today's era, music consumption relies heavily on streaming services, with Spotify leading the way as one of the titans in the industry. Much of the appeal behind Spotify lies in its playlists and curated mixes. Consumers subscribe not only for the convenience, but also in Spotify's ability to introduce new music to their attention. This requires algorithms that can recommend tracks similar to, if not exactly to, the subscriber's preferences. For this reason, streaming companies have a need for optimal classification systems that can also allow for personalized recommendations. With pop being one of the most popular genres in the world, this project will analyze track information, including audio features, to create a model that will best classify pop tracks.\n",
    "\n",
    "# Business Problem\n",
    "\n",
    "Spotify executives are looking to improve their recommendation algorithms in order to gain more subscribers. The focus will be on pop songs, specifically, and this will require an algorithm to correctly identify tracks that are & are not pop. We'll be using Spotify data from the last 24 years (excluding 2024) in order to build a model that will accomplish this task. "
   ]
  },
  {
   "cell_type": "markdown",
   "metadata": {},
   "source": [
    "***\n",
    "<img src=\"https://m.media-amazon.com/images/I/B112teWM7eL.png\" style=\"height:550px\" />"
   ]
  },
  {
   "cell_type": "markdown",
   "metadata": {},
   "source": [
    "# Data Understanding\n",
    "\n",
    "We'll start with importing all the necessary libraries first, as well as loading the dataset we'll be analyzing. The data, which was gathered from Kaggle, is Spotify data in CSV format that lists the top songs for every year from 2000-2023. We'll list the first 10 records for a preview of the data."
   ]
  },
  {
   "cell_type": "code",
   "execution_count": 1,
   "metadata": {
    "scrolled": false
   },
   "outputs": [],
   "source": [
    "# Import libraries\n",
    "import pandas as pd\n",
    "import numpy as np\n",
    "import math\n",
    "from matplotlib import pyplot as plt\n",
    "import matplotlib.ticker as ticker\n",
    "from matplotlib.ticker import AutoMinorLocator\n",
    "import seaborn as sns\n",
    "%matplotlib inline\n",
    "plt.style.use('ggplot')\n",
    "\n",
    "from sklearn.preprocessing import OneHotEncoder, MinMaxScaler\n",
    "from sklearn.metrics import precision_score, accuracy_score, confusion_matrix, classification_report,\\\n",
    "                            roc_auc_score, RocCurveDisplay, ConfusionMatrixDisplay\n",
    "from sklearn.tree import DecisionTreeClassifier\n",
    "from sklearn.ensemble import RandomForestClassifier, GradientBoostingClassifier\n",
    "from sklearn.model_selection import train_test_split, GridSearchCV, cross_val_score\n",
    "from sklearn import svm\n",
    "import joblib"
   ]
  },
  {
   "cell_type": "code",
   "execution_count": 2,
   "metadata": {},
   "outputs": [
    {
     "data": {
      "text/html": [
       "<div>\n",
       "<style scoped>\n",
       "    .dataframe tbody tr th:only-of-type {\n",
       "        vertical-align: middle;\n",
       "    }\n",
       "\n",
       "    .dataframe tbody tr th {\n",
       "        vertical-align: top;\n",
       "    }\n",
       "\n",
       "    .dataframe thead th {\n",
       "        text-align: right;\n",
       "    }\n",
       "</style>\n",
       "<table border=\"1\" class=\"dataframe\">\n",
       "  <thead>\n",
       "    <tr style=\"text-align: right;\">\n",
       "      <th></th>\n",
       "      <th>title</th>\n",
       "      <th>artist</th>\n",
       "      <th>top genre</th>\n",
       "      <th>year</th>\n",
       "      <th>bpm</th>\n",
       "      <th>energy</th>\n",
       "      <th>danceability</th>\n",
       "      <th>dB</th>\n",
       "      <th>liveness</th>\n",
       "      <th>valence</th>\n",
       "      <th>duration</th>\n",
       "      <th>acousticness</th>\n",
       "      <th>speechiness</th>\n",
       "      <th>popularity</th>\n",
       "    </tr>\n",
       "  </thead>\n",
       "  <tbody>\n",
       "    <tr>\n",
       "      <th>0</th>\n",
       "      <td>Flowers</td>\n",
       "      <td>Miley Cyrus</td>\n",
       "      <td>pop</td>\n",
       "      <td>2023</td>\n",
       "      <td>118</td>\n",
       "      <td>68</td>\n",
       "      <td>71</td>\n",
       "      <td>-4</td>\n",
       "      <td>3</td>\n",
       "      <td>65</td>\n",
       "      <td>200</td>\n",
       "      <td>6</td>\n",
       "      <td>7</td>\n",
       "      <td>98</td>\n",
       "    </tr>\n",
       "    <tr>\n",
       "      <th>1</th>\n",
       "      <td>Cupid - Twin Ver.</td>\n",
       "      <td>FIFTY FIFTY</td>\n",
       "      <td>k-pop girl group</td>\n",
       "      <td>2023</td>\n",
       "      <td>120</td>\n",
       "      <td>59</td>\n",
       "      <td>78</td>\n",
       "      <td>-8</td>\n",
       "      <td>35</td>\n",
       "      <td>73</td>\n",
       "      <td>174</td>\n",
       "      <td>44</td>\n",
       "      <td>3</td>\n",
       "      <td>97</td>\n",
       "    </tr>\n",
       "    <tr>\n",
       "      <th>2</th>\n",
       "      <td>BESO</td>\n",
       "      <td>ROSALÍA</td>\n",
       "      <td>pop</td>\n",
       "      <td>2023</td>\n",
       "      <td>95</td>\n",
       "      <td>64</td>\n",
       "      <td>77</td>\n",
       "      <td>-7</td>\n",
       "      <td>17</td>\n",
       "      <td>53</td>\n",
       "      <td>195</td>\n",
       "      <td>74</td>\n",
       "      <td>14</td>\n",
       "      <td>96</td>\n",
       "    </tr>\n",
       "    <tr>\n",
       "      <th>3</th>\n",
       "      <td>Boy's a liar Pt. 2</td>\n",
       "      <td>PinkPantheress</td>\n",
       "      <td>bronx drill</td>\n",
       "      <td>2023</td>\n",
       "      <td>133</td>\n",
       "      <td>81</td>\n",
       "      <td>70</td>\n",
       "      <td>-8</td>\n",
       "      <td>25</td>\n",
       "      <td>86</td>\n",
       "      <td>131</td>\n",
       "      <td>25</td>\n",
       "      <td>5</td>\n",
       "      <td>96</td>\n",
       "    </tr>\n",
       "    <tr>\n",
       "      <th>4</th>\n",
       "      <td>Creepin' (with The Weeknd &amp; 21 Savage)</td>\n",
       "      <td>Metro Boomin</td>\n",
       "      <td>rap</td>\n",
       "      <td>2022</td>\n",
       "      <td>98</td>\n",
       "      <td>62</td>\n",
       "      <td>72</td>\n",
       "      <td>-6</td>\n",
       "      <td>8</td>\n",
       "      <td>17</td>\n",
       "      <td>222</td>\n",
       "      <td>42</td>\n",
       "      <td>5</td>\n",
       "      <td>96</td>\n",
       "    </tr>\n",
       "    <tr>\n",
       "      <th>5</th>\n",
       "      <td>Daylight</td>\n",
       "      <td>David Kushner</td>\n",
       "      <td>gen z singer-songwriter</td>\n",
       "      <td>2023</td>\n",
       "      <td>130</td>\n",
       "      <td>43</td>\n",
       "      <td>51</td>\n",
       "      <td>-9</td>\n",
       "      <td>9</td>\n",
       "      <td>32</td>\n",
       "      <td>213</td>\n",
       "      <td>83</td>\n",
       "      <td>3</td>\n",
       "      <td>96</td>\n",
       "    </tr>\n",
       "    <tr>\n",
       "      <th>6</th>\n",
       "      <td>TQG</td>\n",
       "      <td>KAROL G</td>\n",
       "      <td>reggaeton</td>\n",
       "      <td>2023</td>\n",
       "      <td>180</td>\n",
       "      <td>63</td>\n",
       "      <td>72</td>\n",
       "      <td>-4</td>\n",
       "      <td>9</td>\n",
       "      <td>61</td>\n",
       "      <td>199</td>\n",
       "      <td>67</td>\n",
       "      <td>28</td>\n",
       "      <td>96</td>\n",
       "    </tr>\n",
       "    <tr>\n",
       "      <th>7</th>\n",
       "      <td>Calm Down (with Selena Gomez)</td>\n",
       "      <td>Rema</td>\n",
       "      <td>afrobeats</td>\n",
       "      <td>2022</td>\n",
       "      <td>107</td>\n",
       "      <td>81</td>\n",
       "      <td>80</td>\n",
       "      <td>-5</td>\n",
       "      <td>11</td>\n",
       "      <td>80</td>\n",
       "      <td>239</td>\n",
       "      <td>38</td>\n",
       "      <td>4</td>\n",
       "      <td>95</td>\n",
       "    </tr>\n",
       "    <tr>\n",
       "      <th>8</th>\n",
       "      <td>Anti-Hero</td>\n",
       "      <td>Taylor Swift</td>\n",
       "      <td>pop</td>\n",
       "      <td>2022</td>\n",
       "      <td>97</td>\n",
       "      <td>64</td>\n",
       "      <td>64</td>\n",
       "      <td>-7</td>\n",
       "      <td>14</td>\n",
       "      <td>53</td>\n",
       "      <td>201</td>\n",
       "      <td>13</td>\n",
       "      <td>5</td>\n",
       "      <td>94</td>\n",
       "    </tr>\n",
       "    <tr>\n",
       "      <th>9</th>\n",
       "      <td>Here With Me</td>\n",
       "      <td>d4vd</td>\n",
       "      <td>bedroom pop</td>\n",
       "      <td>2022</td>\n",
       "      <td>132</td>\n",
       "      <td>47</td>\n",
       "      <td>57</td>\n",
       "      <td>-8</td>\n",
       "      <td>13</td>\n",
       "      <td>29</td>\n",
       "      <td>242</td>\n",
       "      <td>53</td>\n",
       "      <td>3</td>\n",
       "      <td>94</td>\n",
       "    </tr>\n",
       "  </tbody>\n",
       "</table>\n",
       "</div>"
      ],
      "text/plain": [
       "                                    title          artist  \\\n",
       "0                                 Flowers     Miley Cyrus   \n",
       "1                       Cupid - Twin Ver.     FIFTY FIFTY   \n",
       "2                                    BESO         ROSALÍA   \n",
       "3                      Boy's a liar Pt. 2  PinkPantheress   \n",
       "4  Creepin' (with The Weeknd & 21 Savage)    Metro Boomin   \n",
       "5                                Daylight   David Kushner   \n",
       "6                                     TQG         KAROL G   \n",
       "7           Calm Down (with Selena Gomez)            Rema   \n",
       "8                               Anti-Hero    Taylor Swift   \n",
       "9                            Here With Me            d4vd   \n",
       "\n",
       "                 top genre  year  bpm  energy  danceability   dB  liveness  \\\n",
       "0                      pop  2023  118      68             71  -4         3   \n",
       "1         k-pop girl group  2023  120      59             78  -8        35   \n",
       "2                      pop  2023   95      64             77  -7        17   \n",
       "3              bronx drill  2023  133      81             70  -8        25   \n",
       "4                      rap  2022   98      62             72  -6         8   \n",
       "5  gen z singer-songwriter  2023  130      43             51  -9         9   \n",
       "6                reggaeton  2023  180      63             72  -4         9   \n",
       "7                afrobeats  2022  107      81             80  -5        11   \n",
       "8                      pop  2022   97      64             64  -7        14   \n",
       "9              bedroom pop  2022  132      47             57  -8        13   \n",
       "\n",
       "   valence  duration  acousticness  speechiness   popularity  \n",
       "0       65       200             6             7          98  \n",
       "1       73       174            44             3          97  \n",
       "2       53       195            74            14          96  \n",
       "3       86       131            25             5          96  \n",
       "4       17       222            42             5          96  \n",
       "5       32       213            83             3          96  \n",
       "6       61       199            67            28          96  \n",
       "7       80       239            38             4          95  \n",
       "8       53       201            13             5          94  \n",
       "9       29       242            53             3          94  "
      ]
     },
     "execution_count": 2,
     "metadata": {},
     "output_type": "execute_result"
    }
   ],
   "source": [
    "# Load the dataset and list the first 15 records\n",
    "spotify_df = pd.read_csv('data/Best Songs on Spotify from 2000-2023.csv', delimiter=';')\n",
    "spotify_df.head(10)"
   ]
  },
  {
   "cell_type": "markdown",
   "metadata": {},
   "source": [
    "As shown above, there are 14 columns, each representing a feature of the track. We can see there is not only qualitative, but also quanitative data on each track, like audio features and popularity scores. To gain a better idea of the data, we'll continue with some additional exploratory methods. This will include a further look into our target column, which is the *top genre* feature. "
   ]
  },
  {
   "cell_type": "code",
   "execution_count": 3,
   "metadata": {
    "scrolled": true
   },
   "outputs": [
    {
     "data": {
      "text/plain": [
       "dance pop            460\n",
       "pop                  250\n",
       "atl hip hop           95\n",
       "alternative metal     55\n",
       "edm                   54\n",
       "                    ... \n",
       "classical soul         1\n",
       "filter house           1\n",
       "dutch trance           1\n",
       "future garage          1\n",
       "deep euro house        1\n",
       "Name: top genre, Length: 266, dtype: int64"
      ]
     },
     "execution_count": 3,
     "metadata": {},
     "output_type": "execute_result"
    }
   ],
   "source": [
    "# Preview our target feature\n",
    "spotify_df['top genre'].value_counts()"
   ]
  },
  {
   "cell_type": "markdown",
   "metadata": {},
   "source": [
    "We can see there is a wide variety of genres in our target feature. We can also see that there are many subgenres in the target column, which will complicate our modeling. Below we'll take a more statistical look."
   ]
  },
  {
   "cell_type": "code",
   "execution_count": 4,
   "metadata": {},
   "outputs": [
    {
     "data": {
      "text/html": [
       "<div>\n",
       "<style scoped>\n",
       "    .dataframe tbody tr th:only-of-type {\n",
       "        vertical-align: middle;\n",
       "    }\n",
       "\n",
       "    .dataframe tbody tr th {\n",
       "        vertical-align: top;\n",
       "    }\n",
       "\n",
       "    .dataframe thead th {\n",
       "        text-align: right;\n",
       "    }\n",
       "</style>\n",
       "<table border=\"1\" class=\"dataframe\">\n",
       "  <thead>\n",
       "    <tr style=\"text-align: right;\">\n",
       "      <th></th>\n",
       "      <th>year</th>\n",
       "      <th>bpm</th>\n",
       "      <th>energy</th>\n",
       "      <th>danceability</th>\n",
       "      <th>dB</th>\n",
       "      <th>liveness</th>\n",
       "      <th>valence</th>\n",
       "      <th>duration</th>\n",
       "      <th>acousticness</th>\n",
       "      <th>speechiness</th>\n",
       "      <th>popularity</th>\n",
       "    </tr>\n",
       "  </thead>\n",
       "  <tbody>\n",
       "    <tr>\n",
       "      <th>count</th>\n",
       "      <td>2385.000000</td>\n",
       "      <td>2385.000000</td>\n",
       "      <td>2385.000000</td>\n",
       "      <td>2385.000000</td>\n",
       "      <td>2385.000000</td>\n",
       "      <td>2385.000000</td>\n",
       "      <td>2385.000000</td>\n",
       "      <td>2385.000000</td>\n",
       "      <td>2385.000000</td>\n",
       "      <td>2385.000000</td>\n",
       "      <td>2385.000000</td>\n",
       "    </tr>\n",
       "    <tr>\n",
       "      <th>mean</th>\n",
       "      <td>2011.116981</td>\n",
       "      <td>119.783648</td>\n",
       "      <td>69.792453</td>\n",
       "      <td>67.034801</td>\n",
       "      <td>-5.771488</td>\n",
       "      <td>17.787002</td>\n",
       "      <td>54.233962</td>\n",
       "      <td>225.946751</td>\n",
       "      <td>15.612998</td>\n",
       "      <td>10.112369</td>\n",
       "      <td>70.526625</td>\n",
       "    </tr>\n",
       "    <tr>\n",
       "      <th>std</th>\n",
       "      <td>6.748364</td>\n",
       "      <td>27.273075</td>\n",
       "      <td>16.164609</td>\n",
       "      <td>13.719049</td>\n",
       "      <td>2.072153</td>\n",
       "      <td>13.629287</td>\n",
       "      <td>22.458084</td>\n",
       "      <td>43.226704</td>\n",
       "      <td>20.277746</td>\n",
       "      <td>9.520815</td>\n",
       "      <td>11.419740</td>\n",
       "    </tr>\n",
       "    <tr>\n",
       "      <th>min</th>\n",
       "      <td>1985.000000</td>\n",
       "      <td>60.000000</td>\n",
       "      <td>6.000000</td>\n",
       "      <td>18.000000</td>\n",
       "      <td>-18.000000</td>\n",
       "      <td>2.000000</td>\n",
       "      <td>4.000000</td>\n",
       "      <td>115.000000</td>\n",
       "      <td>0.000000</td>\n",
       "      <td>2.000000</td>\n",
       "      <td>5.000000</td>\n",
       "    </tr>\n",
       "    <tr>\n",
       "      <th>25%</th>\n",
       "      <td>2005.000000</td>\n",
       "      <td>98.000000</td>\n",
       "      <td>59.000000</td>\n",
       "      <td>59.000000</td>\n",
       "      <td>-7.000000</td>\n",
       "      <td>9.000000</td>\n",
       "      <td>37.000000</td>\n",
       "      <td>200.000000</td>\n",
       "      <td>2.000000</td>\n",
       "      <td>4.000000</td>\n",
       "      <td>64.000000</td>\n",
       "    </tr>\n",
       "    <tr>\n",
       "      <th>50%</th>\n",
       "      <td>2011.000000</td>\n",
       "      <td>120.000000</td>\n",
       "      <td>71.000000</td>\n",
       "      <td>68.000000</td>\n",
       "      <td>-5.000000</td>\n",
       "      <td>12.000000</td>\n",
       "      <td>54.000000</td>\n",
       "      <td>221.000000</td>\n",
       "      <td>7.000000</td>\n",
       "      <td>6.000000</td>\n",
       "      <td>72.000000</td>\n",
       "    </tr>\n",
       "    <tr>\n",
       "      <th>75%</th>\n",
       "      <td>2017.000000</td>\n",
       "      <td>134.000000</td>\n",
       "      <td>82.000000</td>\n",
       "      <td>77.000000</td>\n",
       "      <td>-4.000000</td>\n",
       "      <td>23.000000</td>\n",
       "      <td>73.000000</td>\n",
       "      <td>246.000000</td>\n",
       "      <td>22.000000</td>\n",
       "      <td>12.000000</td>\n",
       "      <td>79.000000</td>\n",
       "    </tr>\n",
       "    <tr>\n",
       "      <th>max</th>\n",
       "      <td>2023.000000</td>\n",
       "      <td>211.000000</td>\n",
       "      <td>100.000000</td>\n",
       "      <td>98.000000</td>\n",
       "      <td>0.000000</td>\n",
       "      <td>84.000000</td>\n",
       "      <td>97.000000</td>\n",
       "      <td>688.000000</td>\n",
       "      <td>98.000000</td>\n",
       "      <td>58.000000</td>\n",
       "      <td>98.000000</td>\n",
       "    </tr>\n",
       "  </tbody>\n",
       "</table>\n",
       "</div>"
      ],
      "text/plain": [
       "              year          bpm       energy  danceability            dB  \\\n",
       "count  2385.000000  2385.000000  2385.000000    2385.000000  2385.000000   \n",
       "mean   2011.116981   119.783648    69.792453      67.034801    -5.771488   \n",
       "std       6.748364    27.273075    16.164609      13.719049     2.072153   \n",
       "min    1985.000000    60.000000     6.000000      18.000000   -18.000000   \n",
       "25%    2005.000000    98.000000    59.000000      59.000000    -7.000000   \n",
       "50%    2011.000000   120.000000    71.000000      68.000000    -5.000000   \n",
       "75%    2017.000000   134.000000    82.000000      77.000000    -4.000000   \n",
       "max    2023.000000   211.000000   100.000000      98.000000     0.000000   \n",
       "\n",
       "          liveness      valence     duration  acousticness  speechiness   \\\n",
       "count  2385.000000  2385.000000  2385.000000   2385.000000   2385.000000   \n",
       "mean     17.787002    54.233962   225.946751     15.612998     10.112369   \n",
       "std      13.629287    22.458084    43.226704     20.277746      9.520815   \n",
       "min       2.000000     4.000000   115.000000      0.000000      2.000000   \n",
       "25%       9.000000    37.000000   200.000000      2.000000      4.000000   \n",
       "50%      12.000000    54.000000   221.000000      7.000000      6.000000   \n",
       "75%      23.000000    73.000000   246.000000     22.000000     12.000000   \n",
       "max      84.000000    97.000000   688.000000     98.000000     58.000000   \n",
       "\n",
       "        popularity  \n",
       "count  2385.000000  \n",
       "mean     70.526625  \n",
       "std      11.419740  \n",
       "min       5.000000  \n",
       "25%      64.000000  \n",
       "50%      72.000000  \n",
       "75%      79.000000  \n",
       "max      98.000000  "
      ]
     },
     "execution_count": 4,
     "metadata": {},
     "output_type": "execute_result"
    }
   ],
   "source": [
    "# Print a statistical breakdown\n",
    "spotify_df.describe()"
   ]
  },
  {
   "cell_type": "code",
   "execution_count": 5,
   "metadata": {
    "scrolled": false
   },
   "outputs": [
    {
     "name": "stdout",
     "output_type": "stream",
     "text": [
      "<class 'pandas.core.frame.DataFrame'>\n",
      "RangeIndex: 2385 entries, 0 to 2384\n",
      "Data columns (total 14 columns):\n",
      " #   Column         Non-Null Count  Dtype \n",
      "---  ------         --------------  ----- \n",
      " 0   title          2385 non-null   object\n",
      " 1   artist         2385 non-null   object\n",
      " 2   top genre      2385 non-null   object\n",
      " 3   year           2385 non-null   int64 \n",
      " 4   bpm            2385 non-null   int64 \n",
      " 5   energy         2385 non-null   int64 \n",
      " 6   danceability   2385 non-null   int64 \n",
      " 7   dB             2385 non-null   int64 \n",
      " 8   liveness       2385 non-null   int64 \n",
      " 9   valence        2385 non-null   int64 \n",
      " 10  duration       2385 non-null   int64 \n",
      " 11  acousticness   2385 non-null   int64 \n",
      " 12  speechiness    2385 non-null   int64 \n",
      " 13  popularity     2385 non-null   int64 \n",
      "dtypes: int64(11), object(3)\n",
      "memory usage: 261.0+ KB\n"
     ]
    }
   ],
   "source": [
    "# Display further information about the dataset\n",
    "spotify_df.info()"
   ]
  },
  {
   "cell_type": "markdown",
   "metadata": {},
   "source": [
    "The initial statistical breakdown gives us an idea of how the numerical features in the dataset are scaled. In addition, we can see that none of these features are missing values, which makes our analysis easier. The next method confirms that fact, and gives us an additional summary about the Dataframe. Now that we've gained a look at the dataset, we'll begin transforming the data, specifically our target column. \n",
    "\n",
    "# Data Preparation\n",
    "\n",
    "Let's begin by renaming the dataset, and then categorize all forms of pop into one genre for classification purposes. We can see this change made by previewing the first 10 records again. "
   ]
  },
  {
   "cell_type": "code",
   "execution_count": 6,
   "metadata": {},
   "outputs": [],
   "source": [
    "# Make a copy of the dataset\n",
    "df2 = spotify_df.copy()"
   ]
  },
  {
   "cell_type": "code",
   "execution_count": 7,
   "metadata": {},
   "outputs": [
    {
     "data": {
      "text/plain": [
       "pop                           1061\n",
       "atl hip hop                     95\n",
       "alternative metal               55\n",
       "edm                             54\n",
       "contemporary r&b                43\n",
       "                              ... \n",
       "filter house                     1\n",
       "new jersey underground rap       1\n",
       "dark clubbing                    1\n",
       "future garage                    1\n",
       "deep euro house                  1\n",
       "Name: top genre, Length: 205, dtype: int64"
      ]
     },
     "execution_count": 7,
     "metadata": {},
     "output_type": "execute_result"
    }
   ],
   "source": [
    "# Create a function that will replace every pop-based genre to 'pop'\n",
    "def contains_pop(genre):\n",
    "    word = \"pop\"\n",
    "    if word in genre:\n",
    "        return word\n",
    "    else:\n",
    "        return genre\n",
    "\n",
    "# Use the new function to transform records\n",
    "df2['top genre'] = df2['top genre'].map(lambda x: contains_pop(x))\n",
    "df2['top genre'].value_counts()"
   ]
  },
  {
   "cell_type": "code",
   "execution_count": 8,
   "metadata": {
    "scrolled": false
   },
   "outputs": [
    {
     "data": {
      "text/html": [
       "<div>\n",
       "<style scoped>\n",
       "    .dataframe tbody tr th:only-of-type {\n",
       "        vertical-align: middle;\n",
       "    }\n",
       "\n",
       "    .dataframe tbody tr th {\n",
       "        vertical-align: top;\n",
       "    }\n",
       "\n",
       "    .dataframe thead th {\n",
       "        text-align: right;\n",
       "    }\n",
       "</style>\n",
       "<table border=\"1\" class=\"dataframe\">\n",
       "  <thead>\n",
       "    <tr style=\"text-align: right;\">\n",
       "      <th></th>\n",
       "      <th>title</th>\n",
       "      <th>artist</th>\n",
       "      <th>top genre</th>\n",
       "      <th>year</th>\n",
       "      <th>bpm</th>\n",
       "      <th>energy</th>\n",
       "      <th>danceability</th>\n",
       "      <th>dB</th>\n",
       "      <th>liveness</th>\n",
       "      <th>valence</th>\n",
       "      <th>duration</th>\n",
       "      <th>acousticness</th>\n",
       "      <th>speechiness</th>\n",
       "      <th>popularity</th>\n",
       "    </tr>\n",
       "  </thead>\n",
       "  <tbody>\n",
       "    <tr>\n",
       "      <th>0</th>\n",
       "      <td>Flowers</td>\n",
       "      <td>Miley Cyrus</td>\n",
       "      <td>pop</td>\n",
       "      <td>2023</td>\n",
       "      <td>118</td>\n",
       "      <td>68</td>\n",
       "      <td>71</td>\n",
       "      <td>-4</td>\n",
       "      <td>3</td>\n",
       "      <td>65</td>\n",
       "      <td>200</td>\n",
       "      <td>6</td>\n",
       "      <td>7</td>\n",
       "      <td>98</td>\n",
       "    </tr>\n",
       "    <tr>\n",
       "      <th>1</th>\n",
       "      <td>Cupid - Twin Ver.</td>\n",
       "      <td>FIFTY FIFTY</td>\n",
       "      <td>pop</td>\n",
       "      <td>2023</td>\n",
       "      <td>120</td>\n",
       "      <td>59</td>\n",
       "      <td>78</td>\n",
       "      <td>-8</td>\n",
       "      <td>35</td>\n",
       "      <td>73</td>\n",
       "      <td>174</td>\n",
       "      <td>44</td>\n",
       "      <td>3</td>\n",
       "      <td>97</td>\n",
       "    </tr>\n",
       "    <tr>\n",
       "      <th>2</th>\n",
       "      <td>BESO</td>\n",
       "      <td>ROSALÍA</td>\n",
       "      <td>pop</td>\n",
       "      <td>2023</td>\n",
       "      <td>95</td>\n",
       "      <td>64</td>\n",
       "      <td>77</td>\n",
       "      <td>-7</td>\n",
       "      <td>17</td>\n",
       "      <td>53</td>\n",
       "      <td>195</td>\n",
       "      <td>74</td>\n",
       "      <td>14</td>\n",
       "      <td>96</td>\n",
       "    </tr>\n",
       "    <tr>\n",
       "      <th>3</th>\n",
       "      <td>Boy's a liar Pt. 2</td>\n",
       "      <td>PinkPantheress</td>\n",
       "      <td>bronx drill</td>\n",
       "      <td>2023</td>\n",
       "      <td>133</td>\n",
       "      <td>81</td>\n",
       "      <td>70</td>\n",
       "      <td>-8</td>\n",
       "      <td>25</td>\n",
       "      <td>86</td>\n",
       "      <td>131</td>\n",
       "      <td>25</td>\n",
       "      <td>5</td>\n",
       "      <td>96</td>\n",
       "    </tr>\n",
       "    <tr>\n",
       "      <th>4</th>\n",
       "      <td>Creepin' (with The Weeknd &amp; 21 Savage)</td>\n",
       "      <td>Metro Boomin</td>\n",
       "      <td>rap</td>\n",
       "      <td>2022</td>\n",
       "      <td>98</td>\n",
       "      <td>62</td>\n",
       "      <td>72</td>\n",
       "      <td>-6</td>\n",
       "      <td>8</td>\n",
       "      <td>17</td>\n",
       "      <td>222</td>\n",
       "      <td>42</td>\n",
       "      <td>5</td>\n",
       "      <td>96</td>\n",
       "    </tr>\n",
       "    <tr>\n",
       "      <th>5</th>\n",
       "      <td>Daylight</td>\n",
       "      <td>David Kushner</td>\n",
       "      <td>gen z singer-songwriter</td>\n",
       "      <td>2023</td>\n",
       "      <td>130</td>\n",
       "      <td>43</td>\n",
       "      <td>51</td>\n",
       "      <td>-9</td>\n",
       "      <td>9</td>\n",
       "      <td>32</td>\n",
       "      <td>213</td>\n",
       "      <td>83</td>\n",
       "      <td>3</td>\n",
       "      <td>96</td>\n",
       "    </tr>\n",
       "    <tr>\n",
       "      <th>6</th>\n",
       "      <td>TQG</td>\n",
       "      <td>KAROL G</td>\n",
       "      <td>reggaeton</td>\n",
       "      <td>2023</td>\n",
       "      <td>180</td>\n",
       "      <td>63</td>\n",
       "      <td>72</td>\n",
       "      <td>-4</td>\n",
       "      <td>9</td>\n",
       "      <td>61</td>\n",
       "      <td>199</td>\n",
       "      <td>67</td>\n",
       "      <td>28</td>\n",
       "      <td>96</td>\n",
       "    </tr>\n",
       "    <tr>\n",
       "      <th>7</th>\n",
       "      <td>Calm Down (with Selena Gomez)</td>\n",
       "      <td>Rema</td>\n",
       "      <td>afrobeats</td>\n",
       "      <td>2022</td>\n",
       "      <td>107</td>\n",
       "      <td>81</td>\n",
       "      <td>80</td>\n",
       "      <td>-5</td>\n",
       "      <td>11</td>\n",
       "      <td>80</td>\n",
       "      <td>239</td>\n",
       "      <td>38</td>\n",
       "      <td>4</td>\n",
       "      <td>95</td>\n",
       "    </tr>\n",
       "    <tr>\n",
       "      <th>8</th>\n",
       "      <td>Anti-Hero</td>\n",
       "      <td>Taylor Swift</td>\n",
       "      <td>pop</td>\n",
       "      <td>2022</td>\n",
       "      <td>97</td>\n",
       "      <td>64</td>\n",
       "      <td>64</td>\n",
       "      <td>-7</td>\n",
       "      <td>14</td>\n",
       "      <td>53</td>\n",
       "      <td>201</td>\n",
       "      <td>13</td>\n",
       "      <td>5</td>\n",
       "      <td>94</td>\n",
       "    </tr>\n",
       "    <tr>\n",
       "      <th>9</th>\n",
       "      <td>Here With Me</td>\n",
       "      <td>d4vd</td>\n",
       "      <td>pop</td>\n",
       "      <td>2022</td>\n",
       "      <td>132</td>\n",
       "      <td>47</td>\n",
       "      <td>57</td>\n",
       "      <td>-8</td>\n",
       "      <td>13</td>\n",
       "      <td>29</td>\n",
       "      <td>242</td>\n",
       "      <td>53</td>\n",
       "      <td>3</td>\n",
       "      <td>94</td>\n",
       "    </tr>\n",
       "    <tr>\n",
       "      <th>10</th>\n",
       "      <td>I'm Good (Blue)</td>\n",
       "      <td>David Guetta</td>\n",
       "      <td>big room</td>\n",
       "      <td>2022</td>\n",
       "      <td>128</td>\n",
       "      <td>97</td>\n",
       "      <td>56</td>\n",
       "      <td>-4</td>\n",
       "      <td>37</td>\n",
       "      <td>30</td>\n",
       "      <td>175</td>\n",
       "      <td>0</td>\n",
       "      <td>3</td>\n",
       "      <td>94</td>\n",
       "    </tr>\n",
       "    <tr>\n",
       "      <th>11</th>\n",
       "      <td>Kill Bill</td>\n",
       "      <td>SZA</td>\n",
       "      <td>pop</td>\n",
       "      <td>2022</td>\n",
       "      <td>89</td>\n",
       "      <td>74</td>\n",
       "      <td>64</td>\n",
       "      <td>-6</td>\n",
       "      <td>16</td>\n",
       "      <td>42</td>\n",
       "      <td>154</td>\n",
       "      <td>5</td>\n",
       "      <td>4</td>\n",
       "      <td>94</td>\n",
       "    </tr>\n",
       "    <tr>\n",
       "      <th>12</th>\n",
       "      <td>Die For You - Remix</td>\n",
       "      <td>The Weeknd</td>\n",
       "      <td>canadian contemporary r&amp;b</td>\n",
       "      <td>2023</td>\n",
       "      <td>67</td>\n",
       "      <td>53</td>\n",
       "      <td>53</td>\n",
       "      <td>-6</td>\n",
       "      <td>44</td>\n",
       "      <td>50</td>\n",
       "      <td>233</td>\n",
       "      <td>23</td>\n",
       "      <td>7</td>\n",
       "      <td>93</td>\n",
       "    </tr>\n",
       "    <tr>\n",
       "      <th>13</th>\n",
       "      <td>I Ain't Worried</td>\n",
       "      <td>OneRepublic</td>\n",
       "      <td>piano rock</td>\n",
       "      <td>2022</td>\n",
       "      <td>140</td>\n",
       "      <td>80</td>\n",
       "      <td>70</td>\n",
       "      <td>-6</td>\n",
       "      <td>5</td>\n",
       "      <td>83</td>\n",
       "      <td>148</td>\n",
       "      <td>8</td>\n",
       "      <td>5</td>\n",
       "      <td>93</td>\n",
       "    </tr>\n",
       "    <tr>\n",
       "      <th>14</th>\n",
       "      <td>Quevedo: Bzrp Music Sessions Vol. 52</td>\n",
       "      <td>Bizarrap</td>\n",
       "      <td>argentine hip hop</td>\n",
       "      <td>2022</td>\n",
       "      <td>128</td>\n",
       "      <td>78</td>\n",
       "      <td>62</td>\n",
       "      <td>-6</td>\n",
       "      <td>23</td>\n",
       "      <td>55</td>\n",
       "      <td>199</td>\n",
       "      <td>1</td>\n",
       "      <td>4</td>\n",
       "      <td>93</td>\n",
       "    </tr>\n",
       "  </tbody>\n",
       "</table>\n",
       "</div>"
      ],
      "text/plain": [
       "                                     title          artist  \\\n",
       "0                                  Flowers     Miley Cyrus   \n",
       "1                        Cupid - Twin Ver.     FIFTY FIFTY   \n",
       "2                                     BESO         ROSALÍA   \n",
       "3                       Boy's a liar Pt. 2  PinkPantheress   \n",
       "4   Creepin' (with The Weeknd & 21 Savage)    Metro Boomin   \n",
       "5                                 Daylight   David Kushner   \n",
       "6                                      TQG         KAROL G   \n",
       "7            Calm Down (with Selena Gomez)            Rema   \n",
       "8                                Anti-Hero    Taylor Swift   \n",
       "9                             Here With Me            d4vd   \n",
       "10                         I'm Good (Blue)    David Guetta   \n",
       "11                               Kill Bill             SZA   \n",
       "12                     Die For You - Remix      The Weeknd   \n",
       "13                         I Ain't Worried     OneRepublic   \n",
       "14    Quevedo: Bzrp Music Sessions Vol. 52        Bizarrap   \n",
       "\n",
       "                    top genre  year  bpm  energy  danceability   dB  liveness  \\\n",
       "0                         pop  2023  118      68             71  -4         3   \n",
       "1                         pop  2023  120      59             78  -8        35   \n",
       "2                         pop  2023   95      64             77  -7        17   \n",
       "3                 bronx drill  2023  133      81             70  -8        25   \n",
       "4                         rap  2022   98      62             72  -6         8   \n",
       "5     gen z singer-songwriter  2023  130      43             51  -9         9   \n",
       "6                   reggaeton  2023  180      63             72  -4         9   \n",
       "7                   afrobeats  2022  107      81             80  -5        11   \n",
       "8                         pop  2022   97      64             64  -7        14   \n",
       "9                         pop  2022  132      47             57  -8        13   \n",
       "10                   big room  2022  128      97             56  -4        37   \n",
       "11                        pop  2022   89      74             64  -6        16   \n",
       "12  canadian contemporary r&b  2023   67      53             53  -6        44   \n",
       "13                 piano rock  2022  140      80             70  -6         5   \n",
       "14          argentine hip hop  2022  128      78             62  -6        23   \n",
       "\n",
       "    valence  duration  acousticness  speechiness   popularity  \n",
       "0        65       200             6             7          98  \n",
       "1        73       174            44             3          97  \n",
       "2        53       195            74            14          96  \n",
       "3        86       131            25             5          96  \n",
       "4        17       222            42             5          96  \n",
       "5        32       213            83             3          96  \n",
       "6        61       199            67            28          96  \n",
       "7        80       239            38             4          95  \n",
       "8        53       201            13             5          94  \n",
       "9        29       242            53             3          94  \n",
       "10       30       175             0             3          94  \n",
       "11       42       154             5             4          94  \n",
       "12       50       233            23             7          93  \n",
       "13       83       148             8             5          93  \n",
       "14       55       199             1             4          93  "
      ]
     },
     "execution_count": 8,
     "metadata": {},
     "output_type": "execute_result"
    }
   ],
   "source": [
    "df2.head(10)"
   ]
  },
  {
   "cell_type": "markdown",
   "metadata": {},
   "source": [
    "The next step is using the OneHotEncoder to replace our *top genre* column with a new *pop song* feature, that will identify whether the record falls under the pop genre or not. This will be vital for modeling. We'll also remove any blank space in the column names for easier processing. "
   ]
  },
  {
   "cell_type": "code",
   "execution_count": 9,
   "metadata": {},
   "outputs": [
    {
     "data": {
      "text/html": [
       "<div>\n",
       "<style scoped>\n",
       "    .dataframe tbody tr th:only-of-type {\n",
       "        vertical-align: middle;\n",
       "    }\n",
       "\n",
       "    .dataframe tbody tr th {\n",
       "        vertical-align: top;\n",
       "    }\n",
       "\n",
       "    .dataframe thead th {\n",
       "        text-align: right;\n",
       "    }\n",
       "</style>\n",
       "<table border=\"1\" class=\"dataframe\">\n",
       "  <thead>\n",
       "    <tr style=\"text-align: right;\">\n",
       "      <th></th>\n",
       "      <th>title</th>\n",
       "      <th>artist</th>\n",
       "      <th>year</th>\n",
       "      <th>bpm</th>\n",
       "      <th>energy</th>\n",
       "      <th>danceability</th>\n",
       "      <th>dB</th>\n",
       "      <th>liveness</th>\n",
       "      <th>valence</th>\n",
       "      <th>duration</th>\n",
       "      <th>acousticness</th>\n",
       "      <th>speechiness</th>\n",
       "      <th>popularity</th>\n",
       "      <th>pop song</th>\n",
       "    </tr>\n",
       "  </thead>\n",
       "  <tbody>\n",
       "    <tr>\n",
       "      <th>0</th>\n",
       "      <td>Flowers</td>\n",
       "      <td>Miley Cyrus</td>\n",
       "      <td>2023</td>\n",
       "      <td>118</td>\n",
       "      <td>68</td>\n",
       "      <td>71</td>\n",
       "      <td>-4</td>\n",
       "      <td>3</td>\n",
       "      <td>65</td>\n",
       "      <td>200</td>\n",
       "      <td>6</td>\n",
       "      <td>7</td>\n",
       "      <td>98</td>\n",
       "      <td>1.0</td>\n",
       "    </tr>\n",
       "    <tr>\n",
       "      <th>1</th>\n",
       "      <td>Cupid - Twin Ver.</td>\n",
       "      <td>FIFTY FIFTY</td>\n",
       "      <td>2023</td>\n",
       "      <td>120</td>\n",
       "      <td>59</td>\n",
       "      <td>78</td>\n",
       "      <td>-8</td>\n",
       "      <td>35</td>\n",
       "      <td>73</td>\n",
       "      <td>174</td>\n",
       "      <td>44</td>\n",
       "      <td>3</td>\n",
       "      <td>97</td>\n",
       "      <td>1.0</td>\n",
       "    </tr>\n",
       "    <tr>\n",
       "      <th>2</th>\n",
       "      <td>BESO</td>\n",
       "      <td>ROSALÍA</td>\n",
       "      <td>2023</td>\n",
       "      <td>95</td>\n",
       "      <td>64</td>\n",
       "      <td>77</td>\n",
       "      <td>-7</td>\n",
       "      <td>17</td>\n",
       "      <td>53</td>\n",
       "      <td>195</td>\n",
       "      <td>74</td>\n",
       "      <td>14</td>\n",
       "      <td>96</td>\n",
       "      <td>1.0</td>\n",
       "    </tr>\n",
       "    <tr>\n",
       "      <th>3</th>\n",
       "      <td>Boy's a liar Pt. 2</td>\n",
       "      <td>PinkPantheress</td>\n",
       "      <td>2023</td>\n",
       "      <td>133</td>\n",
       "      <td>81</td>\n",
       "      <td>70</td>\n",
       "      <td>-8</td>\n",
       "      <td>25</td>\n",
       "      <td>86</td>\n",
       "      <td>131</td>\n",
       "      <td>25</td>\n",
       "      <td>5</td>\n",
       "      <td>96</td>\n",
       "      <td>0.0</td>\n",
       "    </tr>\n",
       "    <tr>\n",
       "      <th>4</th>\n",
       "      <td>Creepin' (with The Weeknd &amp; 21 Savage)</td>\n",
       "      <td>Metro Boomin</td>\n",
       "      <td>2022</td>\n",
       "      <td>98</td>\n",
       "      <td>62</td>\n",
       "      <td>72</td>\n",
       "      <td>-6</td>\n",
       "      <td>8</td>\n",
       "      <td>17</td>\n",
       "      <td>222</td>\n",
       "      <td>42</td>\n",
       "      <td>5</td>\n",
       "      <td>96</td>\n",
       "      <td>0.0</td>\n",
       "    </tr>\n",
       "    <tr>\n",
       "      <th>5</th>\n",
       "      <td>Daylight</td>\n",
       "      <td>David Kushner</td>\n",
       "      <td>2023</td>\n",
       "      <td>130</td>\n",
       "      <td>43</td>\n",
       "      <td>51</td>\n",
       "      <td>-9</td>\n",
       "      <td>9</td>\n",
       "      <td>32</td>\n",
       "      <td>213</td>\n",
       "      <td>83</td>\n",
       "      <td>3</td>\n",
       "      <td>96</td>\n",
       "      <td>0.0</td>\n",
       "    </tr>\n",
       "    <tr>\n",
       "      <th>6</th>\n",
       "      <td>TQG</td>\n",
       "      <td>KAROL G</td>\n",
       "      <td>2023</td>\n",
       "      <td>180</td>\n",
       "      <td>63</td>\n",
       "      <td>72</td>\n",
       "      <td>-4</td>\n",
       "      <td>9</td>\n",
       "      <td>61</td>\n",
       "      <td>199</td>\n",
       "      <td>67</td>\n",
       "      <td>28</td>\n",
       "      <td>96</td>\n",
       "      <td>0.0</td>\n",
       "    </tr>\n",
       "    <tr>\n",
       "      <th>7</th>\n",
       "      <td>Calm Down (with Selena Gomez)</td>\n",
       "      <td>Rema</td>\n",
       "      <td>2022</td>\n",
       "      <td>107</td>\n",
       "      <td>81</td>\n",
       "      <td>80</td>\n",
       "      <td>-5</td>\n",
       "      <td>11</td>\n",
       "      <td>80</td>\n",
       "      <td>239</td>\n",
       "      <td>38</td>\n",
       "      <td>4</td>\n",
       "      <td>95</td>\n",
       "      <td>0.0</td>\n",
       "    </tr>\n",
       "    <tr>\n",
       "      <th>8</th>\n",
       "      <td>Anti-Hero</td>\n",
       "      <td>Taylor Swift</td>\n",
       "      <td>2022</td>\n",
       "      <td>97</td>\n",
       "      <td>64</td>\n",
       "      <td>64</td>\n",
       "      <td>-7</td>\n",
       "      <td>14</td>\n",
       "      <td>53</td>\n",
       "      <td>201</td>\n",
       "      <td>13</td>\n",
       "      <td>5</td>\n",
       "      <td>94</td>\n",
       "      <td>1.0</td>\n",
       "    </tr>\n",
       "    <tr>\n",
       "      <th>9</th>\n",
       "      <td>Here With Me</td>\n",
       "      <td>d4vd</td>\n",
       "      <td>2022</td>\n",
       "      <td>132</td>\n",
       "      <td>47</td>\n",
       "      <td>57</td>\n",
       "      <td>-8</td>\n",
       "      <td>13</td>\n",
       "      <td>29</td>\n",
       "      <td>242</td>\n",
       "      <td>53</td>\n",
       "      <td>3</td>\n",
       "      <td>94</td>\n",
       "      <td>1.0</td>\n",
       "    </tr>\n",
       "    <tr>\n",
       "      <th>10</th>\n",
       "      <td>I'm Good (Blue)</td>\n",
       "      <td>David Guetta</td>\n",
       "      <td>2022</td>\n",
       "      <td>128</td>\n",
       "      <td>97</td>\n",
       "      <td>56</td>\n",
       "      <td>-4</td>\n",
       "      <td>37</td>\n",
       "      <td>30</td>\n",
       "      <td>175</td>\n",
       "      <td>0</td>\n",
       "      <td>3</td>\n",
       "      <td>94</td>\n",
       "      <td>0.0</td>\n",
       "    </tr>\n",
       "    <tr>\n",
       "      <th>11</th>\n",
       "      <td>Kill Bill</td>\n",
       "      <td>SZA</td>\n",
       "      <td>2022</td>\n",
       "      <td>89</td>\n",
       "      <td>74</td>\n",
       "      <td>64</td>\n",
       "      <td>-6</td>\n",
       "      <td>16</td>\n",
       "      <td>42</td>\n",
       "      <td>154</td>\n",
       "      <td>5</td>\n",
       "      <td>4</td>\n",
       "      <td>94</td>\n",
       "      <td>1.0</td>\n",
       "    </tr>\n",
       "    <tr>\n",
       "      <th>12</th>\n",
       "      <td>Die For You - Remix</td>\n",
       "      <td>The Weeknd</td>\n",
       "      <td>2023</td>\n",
       "      <td>67</td>\n",
       "      <td>53</td>\n",
       "      <td>53</td>\n",
       "      <td>-6</td>\n",
       "      <td>44</td>\n",
       "      <td>50</td>\n",
       "      <td>233</td>\n",
       "      <td>23</td>\n",
       "      <td>7</td>\n",
       "      <td>93</td>\n",
       "      <td>0.0</td>\n",
       "    </tr>\n",
       "    <tr>\n",
       "      <th>13</th>\n",
       "      <td>I Ain't Worried</td>\n",
       "      <td>OneRepublic</td>\n",
       "      <td>2022</td>\n",
       "      <td>140</td>\n",
       "      <td>80</td>\n",
       "      <td>70</td>\n",
       "      <td>-6</td>\n",
       "      <td>5</td>\n",
       "      <td>83</td>\n",
       "      <td>148</td>\n",
       "      <td>8</td>\n",
       "      <td>5</td>\n",
       "      <td>93</td>\n",
       "      <td>0.0</td>\n",
       "    </tr>\n",
       "    <tr>\n",
       "      <th>14</th>\n",
       "      <td>Quevedo: Bzrp Music Sessions Vol. 52</td>\n",
       "      <td>Bizarrap</td>\n",
       "      <td>2022</td>\n",
       "      <td>128</td>\n",
       "      <td>78</td>\n",
       "      <td>62</td>\n",
       "      <td>-6</td>\n",
       "      <td>23</td>\n",
       "      <td>55</td>\n",
       "      <td>199</td>\n",
       "      <td>1</td>\n",
       "      <td>4</td>\n",
       "      <td>93</td>\n",
       "      <td>0.0</td>\n",
       "    </tr>\n",
       "  </tbody>\n",
       "</table>\n",
       "</div>"
      ],
      "text/plain": [
       "                                     title          artist  year  bpm  energy  \\\n",
       "0                                  Flowers     Miley Cyrus  2023  118      68   \n",
       "1                        Cupid - Twin Ver.     FIFTY FIFTY  2023  120      59   \n",
       "2                                     BESO         ROSALÍA  2023   95      64   \n",
       "3                       Boy's a liar Pt. 2  PinkPantheress  2023  133      81   \n",
       "4   Creepin' (with The Weeknd & 21 Savage)    Metro Boomin  2022   98      62   \n",
       "5                                 Daylight   David Kushner  2023  130      43   \n",
       "6                                      TQG         KAROL G  2023  180      63   \n",
       "7            Calm Down (with Selena Gomez)            Rema  2022  107      81   \n",
       "8                                Anti-Hero    Taylor Swift  2022   97      64   \n",
       "9                             Here With Me            d4vd  2022  132      47   \n",
       "10                         I'm Good (Blue)    David Guetta  2022  128      97   \n",
       "11                               Kill Bill             SZA  2022   89      74   \n",
       "12                     Die For You - Remix      The Weeknd  2023   67      53   \n",
       "13                         I Ain't Worried     OneRepublic  2022  140      80   \n",
       "14    Quevedo: Bzrp Music Sessions Vol. 52        Bizarrap  2022  128      78   \n",
       "\n",
       "    danceability  dB  liveness  valence  duration  acousticness  speechiness  \\\n",
       "0             71  -4         3       65       200             6            7   \n",
       "1             78  -8        35       73       174            44            3   \n",
       "2             77  -7        17       53       195            74           14   \n",
       "3             70  -8        25       86       131            25            5   \n",
       "4             72  -6         8       17       222            42            5   \n",
       "5             51  -9         9       32       213            83            3   \n",
       "6             72  -4         9       61       199            67           28   \n",
       "7             80  -5        11       80       239            38            4   \n",
       "8             64  -7        14       53       201            13            5   \n",
       "9             57  -8        13       29       242            53            3   \n",
       "10            56  -4        37       30       175             0            3   \n",
       "11            64  -6        16       42       154             5            4   \n",
       "12            53  -6        44       50       233            23            7   \n",
       "13            70  -6         5       83       148             8            5   \n",
       "14            62  -6        23       55       199             1            4   \n",
       "\n",
       "    popularity  pop song  \n",
       "0           98       1.0  \n",
       "1           97       1.0  \n",
       "2           96       1.0  \n",
       "3           96       0.0  \n",
       "4           96       0.0  \n",
       "5           96       0.0  \n",
       "6           96       0.0  \n",
       "7           95       0.0  \n",
       "8           94       1.0  \n",
       "9           94       1.0  \n",
       "10          94       0.0  \n",
       "11          94       1.0  \n",
       "12          93       0.0  \n",
       "13          93       0.0  \n",
       "14          93       0.0  "
      ]
     },
     "execution_count": 9,
     "metadata": {},
     "output_type": "execute_result"
    }
   ],
   "source": [
    "# Remove any blank space in the column names\n",
    "df2.columns = df2.columns.str.replace(' ', '') \n",
    "\n",
    "# One hot encode the genres field between pop & not pop to create target column\n",
    "ohe = OneHotEncoder()\n",
    "col_to_encode = ['topgenre']\n",
    "ohe.fit(df2[col_to_encode])\n",
    "df2_encoded = ohe.transform(df2[col_to_encode])\n",
    "df3 = pd.DataFrame(df2_encoded.todense(), columns=ohe.get_feature_names(), index=df2.index)\n",
    "df3_without_pop = df3.drop('x0_pop', axis=1)\n",
    "\n",
    "# Concatenate the new 'x0_pop' feature with the dataset\n",
    "# Drop any unnecessary columns and rename the new feature to 'pop song'\n",
    "df3_conc = pd.concat([df2, df3], axis=1).drop('topgenre', axis=1)\n",
    "df3_conc.drop(df3_without_pop, axis=1, inplace=True)\n",
    "df3_conc.rename(columns={'x0_pop' : 'pop song'}, inplace=True)\n",
    "df3_conc.head(15)"
   ]
  },
  {
   "cell_type": "code",
   "execution_count": 10,
   "metadata": {},
   "outputs": [
    {
     "data": {
      "text/plain": [
       "(2385, 14)"
      ]
     },
     "execution_count": 10,
     "metadata": {},
     "output_type": "execute_result"
    }
   ],
   "source": [
    "df3_conc.shape"
   ]
  },
  {
   "cell_type": "markdown",
   "metadata": {},
   "source": [
    "We can see above that the columns were removed and concatenated, respectively. Note that the overall shape of the dataset remains intact, and now we can begin to look for any correlations between these features and our target variable. \n",
    "\n",
    "The correlation matrix method below gives us better insight into the relationships between the predictors and the target. We can see that speechiness has the strongest correlation with the *pop song* genre; and conversely, liveness being the weakest. The heatmap further below gives us a better look at these correlations."
   ]
  },
  {
   "cell_type": "code",
   "execution_count": 11,
   "metadata": {},
   "outputs": [
    {
     "data": {
      "text/html": [
       "<div>\n",
       "<style scoped>\n",
       "    .dataframe tbody tr th:only-of-type {\n",
       "        vertical-align: middle;\n",
       "    }\n",
       "\n",
       "    .dataframe tbody tr th {\n",
       "        vertical-align: top;\n",
       "    }\n",
       "\n",
       "    .dataframe thead th {\n",
       "        text-align: right;\n",
       "    }\n",
       "</style>\n",
       "<table border=\"1\" class=\"dataframe\">\n",
       "  <thead>\n",
       "    <tr style=\"text-align: right;\">\n",
       "      <th></th>\n",
       "      <th>year</th>\n",
       "      <th>bpm</th>\n",
       "      <th>energy</th>\n",
       "      <th>danceability</th>\n",
       "      <th>dB</th>\n",
       "      <th>liveness</th>\n",
       "      <th>valence</th>\n",
       "      <th>duration</th>\n",
       "      <th>acousticness</th>\n",
       "      <th>speechiness</th>\n",
       "      <th>popularity</th>\n",
       "      <th>pop song</th>\n",
       "    </tr>\n",
       "  </thead>\n",
       "  <tbody>\n",
       "    <tr>\n",
       "      <th>year</th>\n",
       "      <td>1.000000</td>\n",
       "      <td>0.037433</td>\n",
       "      <td>-0.213572</td>\n",
       "      <td>0.032387</td>\n",
       "      <td>-0.078104</td>\n",
       "      <td>-0.029241</td>\n",
       "      <td>-0.233264</td>\n",
       "      <td>-0.330849</td>\n",
       "      <td>0.159780</td>\n",
       "      <td>-0.023466</td>\n",
       "      <td>0.205909</td>\n",
       "      <td>0.088272</td>\n",
       "    </tr>\n",
       "    <tr>\n",
       "      <th>bpm</th>\n",
       "      <td>0.037433</td>\n",
       "      <td>1.000000</td>\n",
       "      <td>0.128883</td>\n",
       "      <td>-0.175970</td>\n",
       "      <td>0.071543</td>\n",
       "      <td>0.011156</td>\n",
       "      <td>-0.022143</td>\n",
       "      <td>-0.044491</td>\n",
       "      <td>-0.098704</td>\n",
       "      <td>0.066764</td>\n",
       "      <td>-0.019961</td>\n",
       "      <td>-0.028048</td>\n",
       "    </tr>\n",
       "    <tr>\n",
       "      <th>energy</th>\n",
       "      <td>-0.213572</td>\n",
       "      <td>0.128883</td>\n",
       "      <td>1.000000</td>\n",
       "      <td>-0.066279</td>\n",
       "      <td>0.678069</td>\n",
       "      <td>0.157227</td>\n",
       "      <td>0.365791</td>\n",
       "      <td>-0.048563</td>\n",
       "      <td>-0.523750</td>\n",
       "      <td>-0.007322</td>\n",
       "      <td>-0.120484</td>\n",
       "      <td>-0.057207</td>\n",
       "    </tr>\n",
       "    <tr>\n",
       "      <th>danceability</th>\n",
       "      <td>0.032387</td>\n",
       "      <td>-0.175970</td>\n",
       "      <td>-0.066279</td>\n",
       "      <td>1.000000</td>\n",
       "      <td>0.009636</td>\n",
       "      <td>-0.097046</td>\n",
       "      <td>0.379953</td>\n",
       "      <td>-0.103807</td>\n",
       "      <td>-0.098084</td>\n",
       "      <td>0.149590</td>\n",
       "      <td>-0.019491</td>\n",
       "      <td>0.071852</td>\n",
       "    </tr>\n",
       "    <tr>\n",
       "      <th>dB</th>\n",
       "      <td>-0.078104</td>\n",
       "      <td>0.071543</td>\n",
       "      <td>0.678069</td>\n",
       "      <td>0.009636</td>\n",
       "      <td>1.000000</td>\n",
       "      <td>0.089844</td>\n",
       "      <td>0.269899</td>\n",
       "      <td>-0.056888</td>\n",
       "      <td>-0.383500</td>\n",
       "      <td>-0.053500</td>\n",
       "      <td>-0.004715</td>\n",
       "      <td>0.022216</td>\n",
       "    </tr>\n",
       "    <tr>\n",
       "      <th>liveness</th>\n",
       "      <td>-0.029241</td>\n",
       "      <td>0.011156</td>\n",
       "      <td>0.157227</td>\n",
       "      <td>-0.097046</td>\n",
       "      <td>0.089844</td>\n",
       "      <td>1.000000</td>\n",
       "      <td>0.027507</td>\n",
       "      <td>0.015136</td>\n",
       "      <td>-0.102112</td>\n",
       "      <td>0.053680</td>\n",
       "      <td>-0.019009</td>\n",
       "      <td>0.003281</td>\n",
       "    </tr>\n",
       "    <tr>\n",
       "      <th>valence</th>\n",
       "      <td>-0.233264</td>\n",
       "      <td>-0.022143</td>\n",
       "      <td>0.365791</td>\n",
       "      <td>0.379953</td>\n",
       "      <td>0.269899</td>\n",
       "      <td>0.027507</td>\n",
       "      <td>1.000000</td>\n",
       "      <td>-0.120318</td>\n",
       "      <td>-0.185210</td>\n",
       "      <td>0.079725</td>\n",
       "      <td>-0.086720</td>\n",
       "      <td>0.067892</td>\n",
       "    </tr>\n",
       "    <tr>\n",
       "      <th>duration</th>\n",
       "      <td>-0.330849</td>\n",
       "      <td>-0.044491</td>\n",
       "      <td>-0.048563</td>\n",
       "      <td>-0.103807</td>\n",
       "      <td>-0.056888</td>\n",
       "      <td>0.015136</td>\n",
       "      <td>-0.120318</td>\n",
       "      <td>1.000000</td>\n",
       "      <td>-0.002133</td>\n",
       "      <td>0.039184</td>\n",
       "      <td>-0.095590</td>\n",
       "      <td>-0.020821</td>\n",
       "    </tr>\n",
       "    <tr>\n",
       "      <th>acousticness</th>\n",
       "      <td>0.159780</td>\n",
       "      <td>-0.098704</td>\n",
       "      <td>-0.523750</td>\n",
       "      <td>-0.098084</td>\n",
       "      <td>-0.383500</td>\n",
       "      <td>-0.102112</td>\n",
       "      <td>-0.185210</td>\n",
       "      <td>-0.002133</td>\n",
       "      <td>1.000000</td>\n",
       "      <td>-0.033682</td>\n",
       "      <td>0.100588</td>\n",
       "      <td>0.079264</td>\n",
       "    </tr>\n",
       "    <tr>\n",
       "      <th>speechiness</th>\n",
       "      <td>-0.023466</td>\n",
       "      <td>0.066764</td>\n",
       "      <td>-0.007322</td>\n",
       "      <td>0.149590</td>\n",
       "      <td>-0.053500</td>\n",
       "      <td>0.053680</td>\n",
       "      <td>0.079725</td>\n",
       "      <td>0.039184</td>\n",
       "      <td>-0.033682</td>\n",
       "      <td>1.000000</td>\n",
       "      <td>-0.072670</td>\n",
       "      <td>-0.119503</td>\n",
       "    </tr>\n",
       "    <tr>\n",
       "      <th>popularity</th>\n",
       "      <td>0.205909</td>\n",
       "      <td>-0.019961</td>\n",
       "      <td>-0.120484</td>\n",
       "      <td>-0.019491</td>\n",
       "      <td>-0.004715</td>\n",
       "      <td>-0.019009</td>\n",
       "      <td>-0.086720</td>\n",
       "      <td>-0.095590</td>\n",
       "      <td>0.100588</td>\n",
       "      <td>-0.072670</td>\n",
       "      <td>1.000000</td>\n",
       "      <td>0.060319</td>\n",
       "    </tr>\n",
       "    <tr>\n",
       "      <th>pop song</th>\n",
       "      <td>0.088272</td>\n",
       "      <td>-0.028048</td>\n",
       "      <td>-0.057207</td>\n",
       "      <td>0.071852</td>\n",
       "      <td>0.022216</td>\n",
       "      <td>0.003281</td>\n",
       "      <td>0.067892</td>\n",
       "      <td>-0.020821</td>\n",
       "      <td>0.079264</td>\n",
       "      <td>-0.119503</td>\n",
       "      <td>0.060319</td>\n",
       "      <td>1.000000</td>\n",
       "    </tr>\n",
       "  </tbody>\n",
       "</table>\n",
       "</div>"
      ],
      "text/plain": [
       "                  year       bpm    energy  danceability        dB  liveness  \\\n",
       "year          1.000000  0.037433 -0.213572      0.032387 -0.078104 -0.029241   \n",
       "bpm           0.037433  1.000000  0.128883     -0.175970  0.071543  0.011156   \n",
       "energy       -0.213572  0.128883  1.000000     -0.066279  0.678069  0.157227   \n",
       "danceability  0.032387 -0.175970 -0.066279      1.000000  0.009636 -0.097046   \n",
       "dB           -0.078104  0.071543  0.678069      0.009636  1.000000  0.089844   \n",
       "liveness     -0.029241  0.011156  0.157227     -0.097046  0.089844  1.000000   \n",
       "valence      -0.233264 -0.022143  0.365791      0.379953  0.269899  0.027507   \n",
       "duration     -0.330849 -0.044491 -0.048563     -0.103807 -0.056888  0.015136   \n",
       "acousticness  0.159780 -0.098704 -0.523750     -0.098084 -0.383500 -0.102112   \n",
       "speechiness  -0.023466  0.066764 -0.007322      0.149590 -0.053500  0.053680   \n",
       "popularity    0.205909 -0.019961 -0.120484     -0.019491 -0.004715 -0.019009   \n",
       "pop song      0.088272 -0.028048 -0.057207      0.071852  0.022216  0.003281   \n",
       "\n",
       "               valence  duration  acousticness  speechiness  popularity  \\\n",
       "year         -0.233264 -0.330849      0.159780    -0.023466    0.205909   \n",
       "bpm          -0.022143 -0.044491     -0.098704     0.066764   -0.019961   \n",
       "energy        0.365791 -0.048563     -0.523750    -0.007322   -0.120484   \n",
       "danceability  0.379953 -0.103807     -0.098084     0.149590   -0.019491   \n",
       "dB            0.269899 -0.056888     -0.383500    -0.053500   -0.004715   \n",
       "liveness      0.027507  0.015136     -0.102112     0.053680   -0.019009   \n",
       "valence       1.000000 -0.120318     -0.185210     0.079725   -0.086720   \n",
       "duration     -0.120318  1.000000     -0.002133     0.039184   -0.095590   \n",
       "acousticness -0.185210 -0.002133      1.000000    -0.033682    0.100588   \n",
       "speechiness   0.079725  0.039184     -0.033682     1.000000   -0.072670   \n",
       "popularity   -0.086720 -0.095590      0.100588    -0.072670    1.000000   \n",
       "pop song      0.067892 -0.020821      0.079264    -0.119503    0.060319   \n",
       "\n",
       "              pop song  \n",
       "year          0.088272  \n",
       "bpm          -0.028048  \n",
       "energy       -0.057207  \n",
       "danceability  0.071852  \n",
       "dB            0.022216  \n",
       "liveness      0.003281  \n",
       "valence       0.067892  \n",
       "duration     -0.020821  \n",
       "acousticness  0.079264  \n",
       "speechiness  -0.119503  \n",
       "popularity    0.060319  \n",
       "pop song      1.000000  "
      ]
     },
     "execution_count": 11,
     "metadata": {},
     "output_type": "execute_result"
    }
   ],
   "source": [
    "# Create a correlation matrix\n",
    "df3_conc.corr()"
   ]
  },
  {
   "cell_type": "code",
   "execution_count": 12,
   "metadata": {},
   "outputs": [
    {
     "data": {
      "image/png": "[encoded data removed]",
      "text/plain": [
       "<Figure size 864x576 with 2 Axes>"
      ]
     },
     "metadata": {},
     "output_type": "display_data"
    }
   ],
   "source": [
    "# Plot a heatmap with the Pearson coefficient values listed\n",
    "sns.set(rc={'figure.figsize':(12,8)})\n",
    "sns.heatmap(df3_conc.corr(), annot=True);"
   ]
  },
  {
   "cell_type": "markdown",
   "metadata": {},
   "source": [
    "# Modeling\n",
    "## Baseline Model:\n",
    "Now that we have an idea of what correlates best with our target variable, we can begin constructing classification models. Before creating our baseline model, let's drop the target column, along with some unnecessary features. We'll then split the data (using 24% as our test size), and use a MinMaxScaler transformer to scale our numerical data. "
   ]
  },
  {
   "cell_type": "code",
   "execution_count": 13,
   "metadata": {},
   "outputs": [
    {
     "data": {
      "text/plain": [
       "(1812, 10)"
      ]
     },
     "execution_count": 13,
     "metadata": {},
     "output_type": "execute_result"
    }
   ],
   "source": [
    "# Drop remaining unnecessary features as well as the target variable\n",
    "cols_to_drop = ['artist', 'title', 'year', 'pop song']\n",
    "\n",
    "# Split the data into training and test sets\n",
    "y = df3_conc['pop song']\n",
    "df3_conc = df3_conc.drop(cols_to_drop, axis=1)\n",
    "X_train, X_test, y_train, y_test = train_test_split(df3_conc, y, test_size=.24, random_state=17)\n",
    "\n",
    "# Print the training data's shape\n",
    "X_train.shape"
   ]
  },
  {
   "cell_type": "markdown",
   "metadata": {},
   "source": [
    "You can see the dataset's shape remains intact after transformation (note the shape property above and below)."
   ]
  },
  {
   "cell_type": "code",
   "execution_count": 14,
   "metadata": {},
   "outputs": [
    {
     "data": {
      "text/plain": [
       "(1812, 10)"
      ]
     },
     "execution_count": 14,
     "metadata": {},
     "output_type": "execute_result"
    }
   ],
   "source": [
    "# Use the StandardScaler function to scale the data\n",
    "cols = X_train.columns\n",
    "\n",
    "scaler = MinMaxScaler()\n",
    "X_train_processed = scaler.fit_transform(X_train)\n",
    "X_test_processed = scaler.transform(X_test)\n",
    "X_train = pd.DataFrame(X_train_processed, columns = cols)\n",
    "X_test = pd.DataFrame(X_test_processed, columns = cols)\n",
    "\n",
    "# Check & reconfirm the training data's shape\n",
    "X_train_processed.shape"
   ]
  },
  {
   "cell_type": "markdown",
   "metadata": {},
   "source": [
    "The first model we'll use as our baseline will be a Decision Tree classifier. We'll start with a max depth of 4, and predict some estimates to later calculate both the accuracy and precision scores for the training and testing datasets."
   ]
  },
  {
   "cell_type": "code",
   "execution_count": 15,
   "metadata": {},
   "outputs": [
    {
     "name": "stdout",
     "output_type": "stream",
     "text": [
      "Training Accuracy for Decision Tree Classifier: 64.13%\n",
      "Testing Accuracy for Decision Tree Classifier: 55.85%\n",
      "\n",
      "Training Precision for Decision Tree Classifier: 59.34%\n",
      "Testing Precision for Decision Tree Classifier: 47.95%\n"
     ]
    }
   ],
   "source": [
    "# Create a baseline model - a Decision Tree\n",
    "tree_clf = DecisionTreeClassifier(max_depth=4)\n",
    "tree_clf.fit(X_train, y_train)\n",
    "\n",
    "# Predict estimates for both training & test sets\n",
    "y_train_hat = tree_clf.predict(X_train)\n",
    "y_test_hat = tree_clf.predict(X_test)\n",
    "\n",
    "# Print the accuracy and precision scores for both sets of data\n",
    "print(\"Training Accuracy for Decision Tree Classifier: {:.4}%\".format(accuracy_score(y_train, y_train_hat) * 100))\n",
    "print(\"Testing Accuracy for Decision Tree Classifier: {:.4}%\".format(accuracy_score(y_test, y_test_hat) * 100))\n",
    "print('')\n",
    "print(\"Training Precision for Decision Tree Classifier: {:.4}%\".format(precision_score(y_train, y_train_hat) * 100))\n",
    "print(\"Testing Precision for Decision Tree Classifier: {:.4}%\".format(precision_score(y_test, y_test_hat) * 100))"
   ]
  },
  {
   "cell_type": "markdown",
   "metadata": {},
   "source": [
    "As we can see, this model is not very good; however, it is only the baseline. The accuracy and precision scores of the test set (56% and 48%, respectively) are low, but also not terribly far from the respective training set scores - which suggests the model is not overfitting the data. \n",
    "\n",
    "The classification report further demonstrates these observations; however, the confusion matrix visual gives us a better idea of how effective the classifier is. "
   ]
  },
  {
   "cell_type": "code",
   "execution_count": 16,
   "metadata": {},
   "outputs": [
    {
     "name": "stdout",
     "output_type": "stream",
     "text": [
      "Decision Tree: \n",
      "               precision    recall  f1-score   support\n",
      "\n",
      "         0.0       0.66      0.50      0.57       333\n",
      "         1.0       0.48      0.63      0.55       240\n",
      "\n",
      "    accuracy                           0.56       573\n",
      "   macro avg       0.57      0.57      0.56       573\n",
      "weighted avg       0.58      0.56      0.56       573\n",
      "\n"
     ]
    }
   ],
   "source": [
    "# Print the classification report\n",
    "print(f'Decision Tree: \\n {classification_report(y_test, y_test_hat)}')"
   ]
  },
  {
   "cell_type": "code",
   "execution_count": 17,
   "metadata": {},
   "outputs": [
    {
     "data": {
      "image/png": "[encoded data removed]",
      "text/plain": [
       "<Figure size 864x576 with 2 Axes>"
      ]
     },
     "metadata": {},
     "output_type": "display_data"
    }
   ],
   "source": [
    "# Plot the confusion matrix \n",
    "cm = confusion_matrix(y_test, y_test_hat, labels=tree_clf.classes_)\n",
    "disp = ConfusionMatrixDisplay(confusion_matrix=cm,\n",
    "                              display_labels=tree_clf.classes_)\n",
    "disp.plot()\n",
    "plt.grid(False)\n",
    "plt.show();"
   ]
  },
  {
   "cell_type": "markdown",
   "metadata": {},
   "source": [
    "In order to make classification more effective, we'll need to improve on our precision going forward. This will require us to reduce our false positive rate, while also remaining cautious of overfitting the data. \n",
    "\n",
    "The ROC AUC score below also gives us an idea of how effective of a model the Decision Tree is. The score below - approximately .569 - will be our baseline to compare future models to."
   ]
  },
  {
   "cell_type": "code",
   "execution_count": 18,
   "metadata": {},
   "outputs": [
    {
     "data": {
      "text/plain": [
       "0.5689189189189189"
      ]
     },
     "execution_count": 18,
     "metadata": {},
     "output_type": "execute_result"
    }
   ],
   "source": [
    "# Compute the ROC AUC score\n",
    "roc_auc_score(y_test, y_test_hat)"
   ]
  },
  {
   "cell_type": "markdown",
   "metadata": {},
   "source": [
    "We'll also create a list of feature rankings to get an idea of what predictors have significant influence in the model above. We'll sort the dictionary in descending order, then plot these importances for a better look."
   ]
  },
  {
   "cell_type": "code",
   "execution_count": 19,
   "metadata": {},
   "outputs": [
    {
     "name": "stdout",
     "output_type": "stream",
     "text": [
      "{'duration': 0.27028939412195774, 'speechiness': 0.17394496116449026, 'danceability': 0.1639431676729791, 'acousticness': 0.16200289590577238, 'liveness': 0.06640265182838946, 'bpm': 0.051458366671975835, 'valence': 0.04346483024938241, 'popularity': 0.03658940914313678, 'dB': 0.03190432324191608, 'energy': 0.0}\n"
     ]
    }
   ],
   "source": [
    "# Generate a sorted dictionary listing the feature importances\n",
    "feature_rankings = {}\n",
    "for fi, feature in sorted(zip(tree_clf.feature_importances_, X_train.columns), reverse=True):\n",
    "    feature_rankings[feature] = fi\n",
    "print(feature_rankings)"
   ]
  },
  {
   "cell_type": "code",
   "execution_count": 20,
   "metadata": {},
   "outputs": [
    {
     "data": {
      "image/png": "[encoded data removed]",
      "text/plain": [
       "<Figure size 720x576 with 1 Axes>"
      ]
     },
     "metadata": {},
     "output_type": "display_data"
    }
   ],
   "source": [
    "# Visualize the feature importances\n",
    "importances = tree_clf.feature_importances_\n",
    "important_features = pd.Series(importances, index=X_train.columns)\n",
    "\n",
    "\n",
    "fig, ax = plt.subplots(figsize=(10, 8))\n",
    "important_features.nsmallest(10).plot(kind='barh', color='r')\n",
    "ax.set_title(\"Feature Importances\")\n",
    "ax.set_xlabel(\"Feature Importance\")\n",
    "ax.set_ylabel(\"Features\")\n",
    "fig.tight_layout()"
   ]
  },
  {
   "cell_type": "markdown",
   "metadata": {},
   "source": [
    "The bar graph shows us that duration, speechiness, danceability, and acousticness have the most impact on the target in the baseline Decision Tree model. This also reflects, in a way, what the correlation matrix displayed earlier - where, danceability, speechiness, and acousticness were among the features that correlated with our target best. \n",
    "\n",
    "However, the Decision Tree model needs to be tuned to improve on its precision score. We'll create a parameter grid with a range of hyperparameter options for a grid search. We'll also cross-validate the model 5 times, and return the training score."
   ]
  },
  {
   "cell_type": "code",
   "execution_count": 21,
   "metadata": {},
   "outputs": [],
   "source": [
    "# Create a parameter grid\n",
    "dt_param_grid = {'criterion': ['gini', 'entropy'], \n",
    "                'max_depth': [None, 3, 4, 5, 6, 7, 8],\n",
    "                'min_samples_split': [10, 20, 25, 40, 50, 80, 100], \n",
    "                'min_samples_leaf': [5, 10, 25, 50, 75, 100]}"
   ]
  },
  {
   "cell_type": "code",
   "execution_count": 22,
   "metadata": {},
   "outputs": [
    {
     "data": {
      "text/plain": [
       "GridSearchCV(cv=5, estimator=DecisionTreeClassifier(),\n",
       "             param_grid={'criterion': ['gini', 'entropy'],\n",
       "                         'max_depth': [None, 3, 4, 5, 6, 7, 8],\n",
       "                         'min_samples_leaf': [5, 10, 25, 50, 75, 100],\n",
       "                         'min_samples_split': [10, 20, 25, 40, 50, 80, 100]},\n",
       "             return_train_score=True)"
      ]
     },
     "execution_count": 22,
     "metadata": {},
     "output_type": "execute_result"
    }
   ],
   "source": [
    "# Instantiate & fit a Decision Tree classifier\n",
    "dt_clf = DecisionTreeClassifier()\n",
    "\n",
    "# Conduct a grid search & fit the object\n",
    "dt_grid_search = GridSearchCV(dt_clf, dt_param_grid, cv=5, return_train_score=True)\n",
    "dt_grid_search.fit(X_train, y_train)"
   ]
  },
  {
   "cell_type": "markdown",
   "metadata": {},
   "source": [
    "Now we can find the best combination of hyperparameters, as well as calculate the average training score and the testing score. "
   ]
  },
  {
   "cell_type": "code",
   "execution_count": 23,
   "metadata": {},
   "outputs": [
    {
     "name": "stdout",
     "output_type": "stream",
     "text": [
      "Best Parameter Combination Found During Grid Search: \n",
      "{'criterion': 'entropy', 'max_depth': 7, 'min_samples_leaf': 5, 'min_samples_split': 80}\n"
     ]
    }
   ],
   "source": [
    "# Print the \"optimal\" hyperparameter combination\n",
    "print(f'Best Parameter Combination Found During Grid Search: \\n{dt_grid_search.best_params_}')"
   ]
  },
  {
   "cell_type": "code",
   "execution_count": 24,
   "metadata": {},
   "outputs": [
    {
     "name": "stdout",
     "output_type": "stream",
     "text": [
      "0.6440430398665261\n"
     ]
    }
   ],
   "source": [
    "# Calculate the mean train score\n",
    "print(np.mean(dt_grid_search.cv_results_['mean_train_score']))"
   ]
  },
  {
   "cell_type": "code",
   "execution_count": 25,
   "metadata": {},
   "outputs": [
    {
     "data": {
      "text/plain": [
       "0.5602094240837696"
      ]
     },
     "execution_count": 25,
     "metadata": {},
     "output_type": "execute_result"
    }
   ],
   "source": [
    "# Calculate the testing score\n",
    "dt_grid_search.score(X_test, y_test)"
   ]
  },
  {
   "cell_type": "markdown",
   "metadata": {},
   "source": [
    "As we can see, the accuracy improved for both sets of data! Therefore, we should see a similar improvement in our model in both accuracy and precision."
   ]
  },
  {
   "cell_type": "code",
   "execution_count": 26,
   "metadata": {},
   "outputs": [
    {
     "name": "stdout",
     "output_type": "stream",
     "text": [
      "Training Accuracy for Tuned Decision Tree Classifier: 65.56%\n",
      "Testing Accuracy for Tuned Decision Tree Classifier: 56.02%\n",
      "\n",
      "Training Precision for Tuned Decision Tree Classifier: 60.91%\n",
      "Testing Precision for Tuned Decision Tree Classifier: 48.06%\n"
     ]
    }
   ],
   "source": [
    "# Instantiate & fit the Decision Tree model with the \"optimal\" hyperparameters\n",
    "optimal_dt = DecisionTreeClassifier(criterion='entropy', max_depth=7, min_samples_leaf=5, min_samples_split=80)\n",
    "optimal_dt.fit(X_train, y_train)\n",
    "\n",
    "# Predict estimates\n",
    "y_train_hat = optimal_dt.predict(X_train)\n",
    "y_test_hat = optimal_dt.predict(X_test)\n",
    "\n",
    "# Print accuracy and precision scores\n",
    "print(\"Training Accuracy for Tuned Decision Tree Classifier: {:.4}%\".format(accuracy_score(y_train, y_train_hat) * 100))\n",
    "print(\"Testing Accuracy for Tuned Decision Tree Classifier: {:.4}%\".format(accuracy_score(y_test, y_test_hat) * 100))\n",
    "print('')\n",
    "print(\"Training Precision for Tuned Decision Tree Classifier: {:.4}%\".format(precision_score(y_train, y_train_hat) * 100))\n",
    "print(\"Testing Precision for Tuned Decision Tree Classifier: {:.4}%\".format(precision_score(y_test, y_test_hat) * 100))"
   ]
  },
  {
   "cell_type": "code",
   "execution_count": 27,
   "metadata": {
    "scrolled": false
   },
   "outputs": [
    {
     "data": {
      "image/png": "[encoded data removed]",
      "text/plain": [
       "<Figure size 864x576 with 2 Axes>"
      ]
     },
     "metadata": {},
     "output_type": "display_data"
    }
   ],
   "source": [
    "# Plot the confusion matrix \n",
    "cm = confusion_matrix(y_test, y_test_hat, labels=optimal_dt.classes_)\n",
    "disp = ConfusionMatrixDisplay(confusion_matrix=cm,\n",
    "                              display_labels=optimal_dt.classes_)\n",
    "disp.plot()\n",
    "plt.grid(False)\n",
    "plt.show();"
   ]
  },
  {
   "cell_type": "markdown",
   "metadata": {},
   "source": [
    "Although our model improved, it wasn't enough to call this a good model. The test set's precision score still falls under 49%, which is worse than random chance. The false positives reduced slightly, which led to the slight increase in the test set's precision, but it's still ineffective."
   ]
  },
  {
   "cell_type": "markdown",
   "metadata": {},
   "source": [
    "## Further Modeling:\n",
    "\n",
    "Now we've established our baseline model with the best possible combination of parameters. However, this is just the standard for comparison - and to be frank, improvement. We'll construct another model using ensemble methods - specifically, the Random Forests method. First we'll create a Random Forests model with a few hyperparameters before potentially tuning for an \"optimal\" version. We'll calculate the scores first, then display the precision scores for both datasets."
   ]
  },
  {
   "cell_type": "code",
   "execution_count": 28,
   "metadata": {},
   "outputs": [
    {
     "name": "stdout",
     "output_type": "stream",
     "text": [
      "0.7058498896247241\n",
      "0.6090750436300174\n"
     ]
    }
   ],
   "source": [
    "# Create a Random Forests model & evaluate both sets' accuracies\n",
    "forest = RandomForestClassifier(n_estimators=100, max_depth=5)\n",
    "forest.fit(X_train, y_train)\n",
    "print(forest.score(X_train, y_train))\n",
    "print(forest.score(X_test, y_test))"
   ]
  },
  {
   "cell_type": "code",
   "execution_count": 29,
   "metadata": {},
   "outputs": [
    {
     "name": "stdout",
     "output_type": "stream",
     "text": [
      "Training Precision for Random Forest Classifier: 70.99%\n",
      "Testing Precision for Random Forest Classifier: 53.54%\n"
     ]
    }
   ],
   "source": [
    "# Predict estimates for both sets of data\n",
    "y_train_hat = forest.predict(X_train)\n",
    "y_test_hat = forest.predict(X_test)\n",
    "\n",
    "# Print precision scores\n",
    "print(\"Training Precision for Random Forest Classifier: {:.4}%\".format(precision_score(y_train, y_train_hat) * 100))\n",
    "print(\"Testing Precision for Random Forest Classifier: {:.4}%\".format(precision_score(y_test, y_test_hat) * 100))"
   ]
  },
  {
   "cell_type": "markdown",
   "metadata": {},
   "source": [
    "Now we've finally crossed the 50% mark! Although, the training precision score is getting farther from the test set's score, which implies some overfitting. Tuning this model may improve the scores better than tuning the decision tree. We'll conduct another combinatoric grid search, but first calculate the average validation score."
   ]
  },
  {
   "cell_type": "code",
   "execution_count": 30,
   "metadata": {},
   "outputs": [
    {
     "name": "stdout",
     "output_type": "stream",
     "text": [
      "0.6225195196566368\n"
     ]
    }
   ],
   "source": [
    "# Instantiate another Random Forests classifier\n",
    "rf_clf = RandomForestClassifier()\n",
    "\n",
    "# Calculate & print the average validation score\n",
    "mean_rf_cv_score = np.mean(cross_val_score(rf_clf, X_train,\n",
    "                                          y_train, cv=5))\n",
    "print(mean_rf_cv_score)"
   ]
  },
  {
   "cell_type": "markdown",
   "metadata": {},
   "source": [
    "We create the parameter grid to a few parameter ranges, and instantiate the grid search tool before fitting it to the training data. Afterwards, we'll display the test score, and the best combination of hyperparameters for our random forest model."
   ]
  },
  {
   "cell_type": "code",
   "execution_count": 31,
   "metadata": {},
   "outputs": [],
   "source": [
    "# Create a parameter grid for a grid search\n",
    "rf_param_grid = {'n_estimators': [30, 50, 100, 125],\n",
    "                'criterion': ['gini', 'entropy'],\n",
    "                'max_depth': [None, 4, 6, 8, 10],\n",
    "                'min_samples_split': [5, 10, 15], \n",
    "                'min_samples_leaf': [5, 10, 15]}\n",
    "\n",
    "# Instantiate the GridSearchCV object\n",
    "rf_grid_search = GridSearchCV(rf_clf, rf_param_grid, cv=3)"
   ]
  },
  {
   "cell_type": "code",
   "execution_count": 32,
   "metadata": {},
   "outputs": [
    {
     "data": {
      "text/plain": [
       "GridSearchCV(cv=3, estimator=RandomForestClassifier(),\n",
       "             param_grid={'criterion': ['gini', 'entropy'],\n",
       "                         'max_depth': [None, 4, 6, 8, 10],\n",
       "                         'min_samples_leaf': [5, 10, 15],\n",
       "                         'min_samples_split': [5, 10, 15],\n",
       "                         'n_estimators': [30, 50, 100, 125]})"
      ]
     },
     "execution_count": 32,
     "metadata": {},
     "output_type": "execute_result"
    }
   ],
   "source": [
    "# Fit the grid search object\n",
    "rf_grid_search.fit(X_train, y_train)"
   ]
  },
  {
   "cell_type": "code",
   "execution_count": 33,
   "metadata": {},
   "outputs": [
    {
     "name": "stdout",
     "output_type": "stream",
     "text": [
      "Testing Accuracy:  62.91%\n",
      "\n",
      "Optimal Parameters: \n",
      "{'criterion': 'gini', 'max_depth': 8, 'min_samples_leaf': 5, 'min_samples_split': 5, 'n_estimators': 125}\n"
     ]
    }
   ],
   "source": [
    "# Print the testing set's accuracy & the \"optimal\" parameters\n",
    "print(f'Testing Accuracy: {rf_grid_search.best_score_: .2%}')\n",
    "print('')\n",
    "print(f'Optimal Parameters: \\n{rf_grid_search.best_params_}')"
   ]
  },
  {
   "cell_type": "markdown",
   "metadata": {},
   "source": [
    "Now that we have our \"optimal\" parameters, lets create & fit another random forest model with these parameters in place. We'll predict some estimates in order to calculate the training and testing accuracy and precision scores, then compute the ROC AUC score to evaluate the model."
   ]
  },
  {
   "cell_type": "code",
   "execution_count": 34,
   "metadata": {},
   "outputs": [
    {
     "data": {
      "text/plain": [
       "RandomForestClassifier(max_depth=8, min_samples_leaf=5, min_samples_split=5,\n",
       "                       n_estimators=125)"
      ]
     },
     "execution_count": 34,
     "metadata": {},
     "output_type": "execute_result"
    }
   ],
   "source": [
    "# Create another Random Forests model with tuned hyperparameters\n",
    "forest_2 = RandomForestClassifier(n_estimators=125, criterion='gini', max_depth=8, \n",
    "                                  min_samples_leaf=5, min_samples_split=5)\n",
    "forest_2.fit(X_train, y_train)"
   ]
  },
  {
   "cell_type": "code",
   "execution_count": 35,
   "metadata": {},
   "outputs": [
    {
     "name": "stdout",
     "output_type": "stream",
     "text": [
      "Training Accuracy for Tuned Random Forest Classifier: 80.63%\n",
      "Testing Accuracy for Tuned Random Forest Classifier: 60.73%\n",
      "\n",
      "Training Precision for Tuned Random Forest Classifier: 81.33%\n",
      "Testing Precision for Tuned Random Forest Classifier: 53.3%\n"
     ]
    }
   ],
   "source": [
    "# Predict estimates\n",
    "y_train_hat = forest_2.predict(X_train)\n",
    "y_test_hat = forest_2.predict(X_test)\n",
    "\n",
    "# Print accuracy and precision scores\n",
    "print(\"Training Accuracy for Tuned Random Forest Classifier: {:.4}%\".format(accuracy_score(y_train, y_train_hat) * 100))\n",
    "print(\"Testing Accuracy for Tuned Random Forest Classifier: {:.4}%\".format(accuracy_score(y_test, y_test_hat) * 100))\n",
    "print('')\n",
    "print(\"Training Precision for Tuned Random Forest Classifier: {:.4}%\".format(precision_score(y_train, y_train_hat) * 100))\n",
    "print(\"Testing Precision for Tuned Random Forest Classifier: {:.4}%\".format(precision_score(y_test, y_test_hat) * 100))"
   ]
  },
  {
   "cell_type": "code",
   "execution_count": 36,
   "metadata": {},
   "outputs": [
    {
     "data": {
      "text/plain": [
       "0.5929241741741742"
      ]
     },
     "execution_count": 36,
     "metadata": {},
     "output_type": "execute_result"
    }
   ],
   "source": [
    "# Compute the ROC AUC score\n",
    "roc_auc_score(y_test, y_test_hat)"
   ]
  },
  {
   "cell_type": "markdown",
   "metadata": {},
   "source": [
    "The tuned Random Forest model actually improved our model further; however, that's still not saying much considering the testing precision score still falls below 54%. The gap between both sets of scores is also getting bigger, which confirms that our model is overfitting the training data. Although the ensemble methods improved our precision, it is at the cost of high variance. \n",
    "\n",
    "The confusion matrix below shows how our precision is improving, with the false positive count decreasing after creating and tuning our Random Forest model. "
   ]
  },
  {
   "cell_type": "code",
   "execution_count": 37,
   "metadata": {},
   "outputs": [
    {
     "data": {
      "image/png": "[encoded data removed]",
      "text/plain": [
       "<Figure size 864x576 with 2 Axes>"
      ]
     },
     "metadata": {},
     "output_type": "display_data"
    }
   ],
   "source": [
    "# Plot the confusion matrix \n",
    "cm = confusion_matrix(y_test, y_test_hat, labels=forest_2.classes_)\n",
    "disp = ConfusionMatrixDisplay(confusion_matrix=cm,\n",
    "                              display_labels=forest_2.classes_)\n",
    "disp.plot()\n",
    "plt.grid(False)\n",
    "plt.show();"
   ]
  },
  {
   "cell_type": "markdown",
   "metadata": {},
   "source": [
    "Lets see how our features importances have changed after applying a Random Forests model. "
   ]
  },
  {
   "cell_type": "code",
   "execution_count": 38,
   "metadata": {},
   "outputs": [
    {
     "data": {
      "image/png": "[encoded data removed]",
      "text/plain": [
       "<Figure size 720x576 with 1 Axes>"
      ]
     },
     "metadata": {},
     "output_type": "display_data"
    }
   ],
   "source": [
    "# Visualize the feature importances\n",
    "importances = forest_2.feature_importances_\n",
    "important_features = pd.Series(importances, index=X_train.columns)\n",
    "\n",
    "\n",
    "fig, ax = plt.subplots(figsize=(10, 8))\n",
    "important_features.nsmallest(10).plot(kind='barh', color='r')\n",
    "ax.set_title(\"Feature Importances\")\n",
    "ax.set_xlabel(\"Feature Importance\")\n",
    "ax.set_ylabel(\"Features\")\n",
    "fig.tight_layout()"
   ]
  },
  {
   "cell_type": "markdown",
   "metadata": {},
   "source": [
    "The plot above is quite different from our earlier visual, in that every predictor has "
   ]
  },
  {
   "cell_type": "markdown",
   "metadata": {},
   "source": [
    "## Final Model:\n",
    "\n",
    "We'll be using Support Vector Machines (SVM)"
   ]
  },
  {
   "cell_type": "code",
   "execution_count": 39,
   "metadata": {},
   "outputs": [],
   "source": [
    "# Create a Gradient Boosting classifier model \n",
    "gbt_clf = GradientBoostingClassifier(random_state=17)\n",
    "gbt_clf.fit(X_train, y_train)\n",
    "\n",
    "# Predict estimates\n",
    "gbt_clf_train_preds = gbt_clf.predict(X_train)\n",
    "gbt_clf_test_preds = gbt_clf.predict(X_test)"
   ]
  },
  {
   "cell_type": "code",
   "execution_count": 40,
   "metadata": {},
   "outputs": [
    {
     "name": "stdout",
     "output_type": "stream",
     "text": [
      "Training Accuracy for Gradient Boosted Classifier: 74.83%\n",
      "Testing Accuracy for Gradient Boosted Classifier: 60.91%\n",
      "\n",
      "Training Precision for Gradient Boosted Classifier: 73.43%\n",
      "Testing Precision for Gradient Boosted Classifier: 53.28%\n"
     ]
    }
   ],
   "source": [
    "# Print accuracy and precision scores\n",
    "print(\"Training Accuracy for Gradient Boosted Classifier: {:.4}%\".format(accuracy_score(y_train, gbt_clf_train_preds) * 100))\n",
    "print(\"Testing Accuracy for Gradient Boosted Classifier: {:.4}%\".format(accuracy_score(y_test, gbt_clf_test_preds) * 100))\n",
    "print('')\n",
    "print(\"Training Precision for Gradient Boosted Classifier: {:.4}%\".format(precision_score(y_train, gbt_clf_train_preds) * 100))\n",
    "print(\"Testing Precision for Gradient Boosted Classifier: {:.4}%\".format(precision_score(y_test, gbt_clf_test_preds) * 100))"
   ]
  },
  {
   "cell_type": "code",
   "execution_count": 41,
   "metadata": {},
   "outputs": [
    {
     "data": {
      "image/png": "[encoded data removed]",
      "text/plain": [
       "<Figure size 864x576 with 2 Axes>"
      ]
     },
     "metadata": {},
     "output_type": "display_data"
    }
   ],
   "source": [
    "# Plot the confusion matrix\n",
    "cm = confusion_matrix(y_test, gbt_clf_test_preds, labels=gbt_clf.classes_)\n",
    "disp = ConfusionMatrixDisplay(confusion_matrix=cm,\n",
    "                              display_labels=gbt_clf.classes_)\n",
    "disp.plot()\n",
    "plt.grid(False)\n",
    "plt.show();"
   ]
  },
  {
   "cell_type": "code",
   "execution_count": 42,
   "metadata": {},
   "outputs": [
    {
     "name": "stdout",
     "output_type": "stream",
     "text": [
      "0.5463312368972746\n"
     ]
    }
   ],
   "source": [
    "# Print the mean validation score\n",
    "print(cross_val_score(gbt_clf, df3_conc, y=y, cv=5).mean())"
   ]
  },
  {
   "cell_type": "code",
   "execution_count": 43,
   "metadata": {},
   "outputs": [
    {
     "data": {
      "text/plain": [
       "SVC()"
      ]
     },
     "execution_count": 43,
     "metadata": {},
     "output_type": "execute_result"
    }
   ],
   "source": [
    "# Instantiate the SVM function\n",
    "svm_clf = svm.SVC()\n",
    "\n",
    "# Fit the object to our processed training data and labels\n",
    "svm_clf.fit(X_train_processed, y_train)"
   ]
  },
  {
   "cell_type": "code",
   "execution_count": 44,
   "metadata": {},
   "outputs": [
    {
     "name": "stdout",
     "output_type": "stream",
     "text": [
      "0.6330022075055187\n",
      "0.62478184991274\n"
     ]
    }
   ],
   "source": [
    "# Print the accuracy scores for both sets of data\n",
    "print(svm_clf.score(X_train_processed, y_train))\n",
    "print(svm_clf.score(X_test_processed, y_test))"
   ]
  },
  {
   "cell_type": "code",
   "execution_count": 45,
   "metadata": {},
   "outputs": [
    {
     "name": "stdout",
     "output_type": "stream",
     "text": [
      "Training Precision for SVM: 62.26%\n",
      "Testing Precision for SVM: 55.56%\n"
     ]
    }
   ],
   "source": [
    "# Predict estimates\n",
    "y_train_hat = svm_clf.predict(X_train_processed)\n",
    "y_test_hat = svm_clf.predict(X_test_processed)\n",
    "\n",
    "# Print the precision scores for both datasets\n",
    "print(\"Training Precision for SVM: {:.4}%\".format(precision_score(y_train, y_train_hat) * 100))\n",
    "print(\"Testing Precision for SVM: {:.4}%\".format(precision_score(y_test, y_test_hat) * 100))"
   ]
  },
  {
   "cell_type": "code",
   "execution_count": 46,
   "metadata": {},
   "outputs": [
    {
     "data": {
      "text/plain": [
       "0.6102665165165165"
      ]
     },
     "execution_count": 46,
     "metadata": {},
     "output_type": "execute_result"
    }
   ],
   "source": [
    "# Compute the ROC AUC score\n",
    "roc_auc_score(y_test, y_test_hat)"
   ]
  },
  {
   "cell_type": "code",
   "execution_count": 47,
   "metadata": {
    "scrolled": false
   },
   "outputs": [
    {
     "data": {
      "image/png": "[encoded data removed]",
      "text/plain": [
       "<Figure size 864x576 with 2 Axes>"
      ]
     },
     "metadata": {},
     "output_type": "display_data"
    }
   ],
   "source": [
    "# Plot the confusion matrix\n",
    "cm = confusion_matrix(y_test, y_test_hat, labels=svm_clf.classes_)\n",
    "disp = ConfusionMatrixDisplay(confusion_matrix=cm,\n",
    "                              display_labels=svm_clf.classes_)\n",
    "disp.plot()\n",
    "plt.grid(False)\n",
    "plt.show();"
   ]
  },
  {
   "cell_type": "markdown",
   "metadata": {},
   "source": [
    "# Deployment"
   ]
  },
  {
   "cell_type": "code",
   "execution_count": 48,
   "metadata": {},
   "outputs": [],
   "source": [
    "with open('svm_model.pkl', 'wb') as f:\n",
    "    joblib.dump(svm_clf, f)"
   ]
  },
  {
   "cell_type": "markdown",
   "metadata": {},
   "source": [
    "# Conclusion"
   ]
  },
  {
   "cell_type": "markdown",
   "metadata": {},
   "source": [
    "# Limitations & Further Work"
   ]
  }
 ],
 "metadata": {
  "kernelspec": {
   "display_name": "Python (learn-env",
   "language": "python",
   "name": "learn-env"
  },
  "language_info": {
   "codemirror_mode": {
    "name": "ipython",
    "version": 3
   },
   "file_extension": ".py",
   "mimetype": "text/x-python",
   "name": "python",
   "nbconvert_exporter": "python",
   "pygments_lexer": "ipython3",
   "version": "3.8.5"
  }
 },
 "nbformat": 4,
 "nbformat_minor": 4
}
